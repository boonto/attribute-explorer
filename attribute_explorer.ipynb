{
 "cells": [
  {
   "cell_type": "markdown",
   "metadata": {},
   "source": [
    "# Attribute Explorer"
   ]
  },
  {
   "cell_type": "code",
   "execution_count": 1,
   "metadata": {
    "collapsed": true
   },
   "outputs": [],
   "source": [
    "# Imports\n",
    "import numpy as np\n",
    "import matplotlib.pyplot as plt\n",
    "import seaborn as sns\n",
    "import pandas as ps\n",
    "import ipywidgets as widgets\n",
    "\n",
    "# Prettier plots\n",
    "sns.set()\n",
    "\n",
    "# Save plots as vector graphics\n",
    "from IPython.display import set_matplotlib_formats\n",
    "set_matplotlib_formats('png')\n",
    "sns.set(rc={\"savefig.dpi\" : 75,\n",
    "            \"figure.figsize\" : [10, 8]})"
   ]
  },
  {
   "cell_type": "code",
   "execution_count": 2,
   "metadata": {},
   "outputs": [
    {
     "data": {
      "application/vnd.jupyter.widget-view+json": {
       "model_id": "1c70a8cb05a84476b080cc1d8eff8a8e",
       "version_major": 2,
       "version_minor": 0
      },
      "text/html": [
       "<p>Failed to display Jupyter Widget of type <code>interactive</code>.</p>\n",
       "<p>\n",
       "  If you're reading this message in the Jupyter Notebook or JupyterLab Notebook, it may mean\n",
       "  that the widgets JavaScript is still loading. If this message persists, it\n",
       "  likely means that the widgets JavaScript library is either not installed or\n",
       "  not enabled. See the <a href=\"https://ipywidgets.readthedocs.io/en/stable/user_install.html\">Jupyter\n",
       "  Widgets Documentation</a> for setup instructions.\n",
       "</p>\n",
       "<p>\n",
       "  If you're reading this message in another frontend (for example, a static\n",
       "  rendering on GitHub or <a href=\"https://nbviewer.jupyter.org/\">NBViewer</a>),\n",
       "  it may mean that your frontend doesn't currently support widgets.\n",
       "</p>\n"
      ],
      "text/plain": [
       "interactive(children=(Dropdown(description='dataSet', options=('Iris-setosa', 'Iris-versicolor', 'Iris-virginica'), value='Iris-setosa'), Output()), _dom_classes=('widget-interact',))"
      ]
     },
     "metadata": {},
     "output_type": "display_data"
    }
   ],
   "source": [
    "# Read data\n",
    "irisData = ps.read_csv(r'iris.csv', sep=',')\n",
    "data = None\n",
    "def choose(dataSet):\n",
    "    global data\n",
    "    data = irisData[irisData.Name == dataSet]\n",
    "widgets.interact(choose, dataSet=irisData.Name.unique());"
   ]
  },
  {
   "cell_type": "code",
   "execution_count": 3,
   "metadata": {
    "collapsed": true
   },
   "outputs": [],
   "source": [
    "# Create widgets\n",
    "wids = []\n",
    "for index, item in data.iloc[:,0:4].items():\n",
    "    wids.append(widgets.FloatRangeSlider(\n",
    "        value=[item.min(), item.max()],\n",
    "        min=item.min(),\n",
    "        max=item.max(),\n",
    "        step=0.1,\n",
    "        continuous_update = False,\n",
    "        orientation=\"horizontal\",\n",
    "        layout=widgets.Layout(width = \"194px\", margin=\"0 0 0 38px\")\n",
    "    ))\n",
    "ui = widgets.HBox(wids)"
   ]
  },
  {
   "cell_type": "code",
   "execution_count": 4,
   "metadata": {},
   "outputs": [
    {
     "data": {
      "application/vnd.jupyter.widget-view+json": {
       "model_id": "5848a6b6aa07425bb80192fc97c004a9",
       "version_major": 2,
       "version_minor": 0
      },
      "text/html": [
       "<p>Failed to display Jupyter Widget of type <code>Output</code>.</p>\n",
       "<p>\n",
       "  If you're reading this message in the Jupyter Notebook or JupyterLab Notebook, it may mean\n",
       "  that the widgets JavaScript is still loading. If this message persists, it\n",
       "  likely means that the widgets JavaScript library is either not installed or\n",
       "  not enabled. See the <a href=\"https://ipywidgets.readthedocs.io/en/stable/user_install.html\">Jupyter\n",
       "  Widgets Documentation</a> for setup instructions.\n",
       "</p>\n",
       "<p>\n",
       "  If you're reading this message in another frontend (for example, a static\n",
       "  rendering on GitHub or <a href=\"https://nbviewer.jupyter.org/\">NBViewer</a>),\n",
       "  it may mean that your frontend doesn't currently support widgets.\n",
       "</p>\n"
      ],
      "text/plain": [
       "Output()"
      ]
     },
     "metadata": {},
     "output_type": "display_data"
    },
    {
     "data": {
      "application/vnd.jupyter.widget-view+json": {
       "model_id": "d9707c33943e4ac4a263d9d1f671b067",
       "version_major": 2,
       "version_minor": 0
      },
      "text/html": [
       "<p>Failed to display Jupyter Widget of type <code>HBox</code>.</p>\n",
       "<p>\n",
       "  If you're reading this message in the Jupyter Notebook or JupyterLab Notebook, it may mean\n",
       "  that the widgets JavaScript is still loading. If this message persists, it\n",
       "  likely means that the widgets JavaScript library is either not installed or\n",
       "  not enabled. See the <a href=\"https://ipywidgets.readthedocs.io/en/stable/user_install.html\">Jupyter\n",
       "  Widgets Documentation</a> for setup instructions.\n",
       "</p>\n",
       "<p>\n",
       "  If you're reading this message in another frontend (for example, a static\n",
       "  rendering on GitHub or <a href=\"https://nbviewer.jupyter.org/\">NBViewer</a>),\n",
       "  it may mean that your frontend doesn't currently support widgets.\n",
       "</p>\n"
      ],
      "text/plain": [
       "HBox(children=(FloatRangeSlider(value=(4.3, 5.8), continuous_update=False, layout=Layout(margin='0 0 0 38px', width='194px'), max=5.8, min=4.3), FloatRangeSlider(value=(2.3, 4.4), continuous_update=False, layout=Layout(margin='0 0 0 38px', width='194px'), max=4.4, min=2.3), FloatRangeSlider(value=(1.0, 1.9), continuous_update=False, layout=Layout(margin='0 0 0 38px', width='194px'), max=1.9, min=1.0), FloatRangeSlider(value=(0.1, 0.6), continuous_update=False, layout=Layout(margin='0 0 0 38px', width='194px'), max=0.6, min=0.1)))"
      ]
     },
     "metadata": {},
     "output_type": "display_data"
    }
   ],
   "source": [
    "def attributeExplorer(r0, r1, r2, r3):\n",
    "    # Extract data\n",
    "    extData = []\n",
    "    for index, item in data.iloc[:,0:4].items():\n",
    "        eD = item\n",
    "        for (ind, it), r in zip(data.iloc[:,0:4].items(), [r0, r1, r2, r3]):\n",
    "            eD = eD[it >= r[0]][it <= r[1]]\n",
    "        extData.append(eD)\n",
    "    \n",
    "    # Plot the data\n",
    "    fig, axArr = plt.subplots(1, 4, figsize=(16,4))\n",
    "    plt.suptitle(data.Name.unique()[0])\n",
    "    for ax, (index, item), ext in zip(axArr, data.iloc[:,0:4].items(), extData):\n",
    "        ax.hist(item)\n",
    "        ax.hist(ext, range = (item.min(), item.max()))\n",
    "        ax.set_title(index)\n",
    "    \n",
    "    plt.show()\n",
    "\n",
    "w = widgets.interactive_output(attributeExplorer, {\"r0\" : wids[0], \"r1\" : wids[1], \n",
    "                                                   \"r2\" : wids[2], \"r3\" : wids[3]});\n",
    "display(w, ui)"
   ]
  }
 ],
 "metadata": {
  "kernelspec": {
   "display_name": "Python 3",
   "language": "python",
   "name": "python3"
  },
  "language_info": {
   "codemirror_mode": {
    "name": "ipython",
    "version": 3
   },
   "file_extension": ".py",
   "mimetype": "text/x-python",
   "name": "python",
   "nbconvert_exporter": "python",
   "pygments_lexer": "ipython3",
   "version": "3.6.4"
  },
  "widgets": {
   "application/vnd.jupyter.widget-state+json": {
    "state": {
     "03ad1c66bba44f949b3b2f602f5d62fa": {
      "model_module": "@jupyter-widgets/controls",
      "model_module_version": "1.0.0",
      "model_name": "FloatRangeSliderModel",
      "state": {
       "_model_name": "FloatRangeSliderModel",
       "_view_name": "FloatRangeSliderView",
       "continuous_update": false,
       "layout": "IPY_MODEL_4cc3a6bca9e74200990d0d5ea0f7ffa3",
       "max": 1.9,
       "min": 1,
       "step": 0.1,
       "style": "IPY_MODEL_70940455638b479dac8e1fc540e9c3d0",
       "value": [
        1,
        1.9
       ]
      }
     },
     "04385f5a998448859a713beaa7bea64d": {
      "model_module": "@jupyter-widgets/base",
      "model_module_version": "1.0.0",
      "model_name": "LayoutModel",
      "state": {
       "margin": "0 0 0 38px",
       "width": "194px"
      }
     },
     "04e09eda70fa4f22a32ae21843ada82f": {
      "model_module": "@jupyter-widgets/output",
      "model_module_version": "1.0.0",
      "model_name": "OutputModel",
      "state": {
       "layout": "IPY_MODEL_6a729d34585d453792cb38d7899baa57"
      }
     },
     "09c22c9d4a124e4e83267f080b5ee799": {
      "model_module": "@jupyter-widgets/base",
      "model_module_version": "1.0.0",
      "model_name": "LayoutModel",
      "state": {}
     },
     "0b41f5ce5829432ebe9efcc02dd1f1d2": {
      "model_module": "@jupyter-widgets/base",
      "model_module_version": "1.0.0",
      "model_name": "LayoutModel",
      "state": {}
     },
     "0eaa61506abc425da18663110b0f1c17": {
      "model_module": "@jupyter-widgets/controls",
      "model_module_version": "1.0.0",
      "model_name": "FloatRangeSliderModel",
      "state": {
       "_model_name": "FloatRangeSliderModel",
       "_view_name": "FloatRangeSliderView",
       "continuous_update": false,
       "layout": "IPY_MODEL_a9a8171c3ba44c8e8b643dabdc20be3b",
       "max": 0.6,
       "min": 0.1,
       "step": 0.1,
       "style": "IPY_MODEL_4b4a6659993e430abd8f286e2a9f2477",
       "value": [
        0.2,
        0.5
       ]
      }
     },
     "128cb40ab6e04a5aa6bd9e09c7187bb6": {
      "model_module": "@jupyter-widgets/base",
      "model_module_version": "1.0.0",
      "model_name": "LayoutModel",
      "state": {
       "margin": "0 0 0 38px",
       "width": "194px"
      }
     },
     "1c70a8cb05a84476b080cc1d8eff8a8e": {
      "model_module": "@jupyter-widgets/controls",
      "model_module_version": "1.0.0",
      "model_name": "VBoxModel",
      "state": {
       "_dom_classes": [
        "widget-interact"
       ],
       "children": [
        "IPY_MODEL_48c36b8f197043b6ac03722608d8d270",
        "IPY_MODEL_b00edf7b00eb4cf699fe23e1872d8232"
       ],
       "layout": "IPY_MODEL_629d3c03367c4dbaab1a777bc1393773"
      }
     },
     "1d23a65934ce4c2586df6a63ceac2725": {
      "model_module": "@jupyter-widgets/base",
      "model_module_version": "1.0.0",
      "model_name": "LayoutModel",
      "state": {}
     },
     "27a3c5d0ded74c6fa360625ce60b9d18": {
      "model_module": "@jupyter-widgets/controls",
      "model_module_version": "1.0.0",
      "model_name": "FloatRangeSliderModel",
      "state": {
       "_model_name": "FloatRangeSliderModel",
       "_view_name": "FloatRangeSliderView",
       "continuous_update": false,
       "layout": "IPY_MODEL_4fcdb01aa92a46d7a59922194c8355a7",
       "max": 5.8,
       "min": 4.3,
       "step": 0.1,
       "style": "IPY_MODEL_72e01db251554bf8bfe21649472f6187",
       "value": [
        4.7,
        5.5
       ]
      }
     },
     "470664db0cbf4d50827e2d53a8483d72": {
      "model_module": "@jupyter-widgets/controls",
      "model_module_version": "1.0.0",
      "model_name": "FloatRangeSliderModel",
      "state": {
       "_model_name": "FloatRangeSliderModel",
       "_view_name": "FloatRangeSliderView",
       "continuous_update": false,
       "layout": "IPY_MODEL_128cb40ab6e04a5aa6bd9e09c7187bb6",
       "max": 0.6,
       "min": 0.1,
       "step": 0.1,
       "style": "IPY_MODEL_68f0c0e7a92442759b4becd600954b5c",
       "value": [
        0.1,
        0.6
       ]
      }
     },
     "48c36b8f197043b6ac03722608d8d270": {
      "model_module": "@jupyter-widgets/controls",
      "model_module_version": "1.0.0",
      "model_name": "DropdownModel",
      "state": {
       "_options_labels": [
        "Iris-setosa",
        "Iris-versicolor",
        "Iris-virginica"
       ],
       "description": "dataSet",
       "index": 0,
       "layout": "IPY_MODEL_1d23a65934ce4c2586df6a63ceac2725",
       "style": "IPY_MODEL_78d1380550624ec49c8a6fbb51c2f4b2"
      }
     },
     "4a6830e0565c4e1181f408fbd1946bc3": {
      "model_module": "@jupyter-widgets/base",
      "model_module_version": "1.0.0",
      "model_name": "LayoutModel",
      "state": {}
     },
     "4b4a6659993e430abd8f286e2a9f2477": {
      "model_module": "@jupyter-widgets/controls",
      "model_module_version": "1.0.0",
      "model_name": "SliderStyleModel",
      "state": {
       "description_width": ""
      }
     },
     "4cc3a6bca9e74200990d0d5ea0f7ffa3": {
      "model_module": "@jupyter-widgets/base",
      "model_module_version": "1.0.0",
      "model_name": "LayoutModel",
      "state": {
       "margin": "0 0 0 38px",
       "width": "194px"
      }
     },
     "4fcdb01aa92a46d7a59922194c8355a7": {
      "model_module": "@jupyter-widgets/base",
      "model_module_version": "1.0.0",
      "model_name": "LayoutModel",
      "state": {
       "margin": "0 0 0 38px",
       "width": "194px"
      }
     },
     "521453e6ef19430a95be8beba24fd088": {
      "model_module": "@jupyter-widgets/controls",
      "model_module_version": "1.0.0",
      "model_name": "SliderStyleModel",
      "state": {
       "description_width": ""
      }
     },
     "5848a6b6aa07425bb80192fc97c004a9": {
      "model_module": "@jupyter-widgets/output",
      "model_module_version": "1.0.0",
      "model_name": "OutputModel",
      "state": {
       "layout": "IPY_MODEL_9e07f4bf023a453da4eaead6fdaea1a1",
       "outputs": [
        {
         "data": {
          "image/png": "iVBORw0KGgoAAAANSUhEUgAAA54AAAEVCAYAAACIZzrVAAAABHNCSVQICAgIfAhkiAAAAAlwSFlz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\nRK5CYII=\n",
          "text/plain": "<matplotlib.figure.Figure at 0x7f1ce082d438>"
         },
         "metadata": {},
         "output_type": "display_data"
        }
       ]
      }
     },
     "629d3c03367c4dbaab1a777bc1393773": {
      "model_module": "@jupyter-widgets/base",
      "model_module_version": "1.0.0",
      "model_name": "LayoutModel",
      "state": {}
     },
     "67aacc8b0b2b4df9bddb63abe7e13926": {
      "model_module": "@jupyter-widgets/base",
      "model_module_version": "1.0.0",
      "model_name": "LayoutModel",
      "state": {}
     },
     "68f0c0e7a92442759b4becd600954b5c": {
      "model_module": "@jupyter-widgets/controls",
      "model_module_version": "1.0.0",
      "model_name": "SliderStyleModel",
      "state": {
       "description_width": ""
      }
     },
     "6a729d34585d453792cb38d7899baa57": {
      "model_module": "@jupyter-widgets/base",
      "model_module_version": "1.0.0",
      "model_name": "LayoutModel",
      "state": {}
     },
     "6c779136873547d6b6b68a5753c07490": {
      "model_module": "@jupyter-widgets/base",
      "model_module_version": "1.0.0",
      "model_name": "LayoutModel",
      "state": {
       "margin": "0 0 0 38px",
       "width": "194px"
      }
     },
     "70940455638b479dac8e1fc540e9c3d0": {
      "model_module": "@jupyter-widgets/controls",
      "model_module_version": "1.0.0",
      "model_name": "SliderStyleModel",
      "state": {
       "description_width": ""
      }
     },
     "72e01db251554bf8bfe21649472f6187": {
      "model_module": "@jupyter-widgets/controls",
      "model_module_version": "1.0.0",
      "model_name": "SliderStyleModel",
      "state": {
       "description_width": ""
      }
     },
     "78d1380550624ec49c8a6fbb51c2f4b2": {
      "model_module": "@jupyter-widgets/controls",
      "model_module_version": "1.0.0",
      "model_name": "DescriptionStyleModel",
      "state": {
       "description_width": ""
      }
     },
     "88c3a8bbe4304e80be2c805b55e0c13e": {
      "model_module": "@jupyter-widgets/controls",
      "model_module_version": "1.0.0",
      "model_name": "SliderStyleModel",
      "state": {
       "description_width": ""
      }
     },
     "8ded8052aa10411ab59c21d99c14e4c9": {
      "model_module": "@jupyter-widgets/controls",
      "model_module_version": "1.0.0",
      "model_name": "VBoxModel",
      "state": {
       "_dom_classes": [
        "widget-interact"
       ],
       "children": [
        "IPY_MODEL_ef807adfade04141baec6ea8bb634afc",
        "IPY_MODEL_04e09eda70fa4f22a32ae21843ada82f"
       ],
       "layout": "IPY_MODEL_09c22c9d4a124e4e83267f080b5ee799"
      }
     },
     "9381eb8cbc0743fc9b83dc028e785140": {
      "model_module": "@jupyter-widgets/controls",
      "model_module_version": "1.0.0",
      "model_name": "SliderStyleModel",
      "state": {
       "description_width": ""
      }
     },
     "94111fc385da4f27980ea48fe1c74f87": {
      "model_module": "@jupyter-widgets/output",
      "model_module_version": "1.0.0",
      "model_name": "OutputModel",
      "state": {
       "layout": "IPY_MODEL_67aacc8b0b2b4df9bddb63abe7e13926",
       "outputs": [
        {
         "data": {
          "image/png": "iVBORw0KGgoAAAANSUhEUgAAA54AAAEVCAYAAACIZzrVAAAABHNCSVQICAgIfAhkiAAAAAlwSFlz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\nAIei8AQAAAAAONT/ByDPvHaz+9cuAAAAAElFTkSuQmCC\n",
          "text/plain": "<matplotlib.figure.Figure at 0x7fd545b97518>"
         },
         "metadata": {},
         "output_type": "display_data"
        }
       ]
      }
     },
     "97b338932e9f4381b238cf9e22c6c68a": {
      "model_module": "@jupyter-widgets/base",
      "model_module_version": "1.0.0",
      "model_name": "LayoutModel",
      "state": {
       "margin": "0 0 0 38px",
       "width": "194px"
      }
     },
     "9e07f4bf023a453da4eaead6fdaea1a1": {
      "model_module": "@jupyter-widgets/base",
      "model_module_version": "1.0.0",
      "model_name": "LayoutModel",
      "state": {}
     },
     "a0fbb58710a4423ba0e9d97edd08d278": {
      "model_module": "@jupyter-widgets/controls",
      "model_module_version": "1.0.0",
      "model_name": "FloatRangeSliderModel",
      "state": {
       "_model_name": "FloatRangeSliderModel",
       "_view_name": "FloatRangeSliderView",
       "continuous_update": false,
       "layout": "IPY_MODEL_b0f7e98269324acc87b37da00b95ab21",
       "max": 5.8,
       "min": 4.3,
       "step": 0.1,
       "style": "IPY_MODEL_bc8ddf20c1dc492399474803adaa941a",
       "value": [
        4.3,
        5.8
       ]
      }
     },
     "a17958b307ec4daa8acc1f9c56a42c6f": {
      "model_module": "@jupyter-widgets/controls",
      "model_module_version": "1.0.0",
      "model_name": "FloatRangeSliderModel",
      "state": {
       "_model_name": "FloatRangeSliderModel",
       "_view_name": "FloatRangeSliderView",
       "continuous_update": false,
       "layout": "IPY_MODEL_97b338932e9f4381b238cf9e22c6c68a",
       "max": 1.9,
       "min": 1,
       "step": 0.1,
       "style": "IPY_MODEL_88c3a8bbe4304e80be2c805b55e0c13e",
       "value": [
        1.1,
        1.8
       ]
      }
     },
     "a9a8171c3ba44c8e8b643dabdc20be3b": {
      "model_module": "@jupyter-widgets/base",
      "model_module_version": "1.0.0",
      "model_name": "LayoutModel",
      "state": {
       "margin": "0 0 0 38px",
       "width": "194px"
      }
     },
     "ab1b7065681743a981425d2f9224f47a": {
      "model_module": "@jupyter-widgets/controls",
      "model_module_version": "1.0.0",
      "model_name": "DescriptionStyleModel",
      "state": {
       "description_width": ""
      }
     },
     "abb1191842224fb5b716f01bcb163db5": {
      "model_module": "@jupyter-widgets/controls",
      "model_module_version": "1.0.0",
      "model_name": "FloatRangeSliderModel",
      "state": {
       "_model_name": "FloatRangeSliderModel",
       "_view_name": "FloatRangeSliderView",
       "continuous_update": false,
       "layout": "IPY_MODEL_04385f5a998448859a713beaa7bea64d",
       "max": 4.4,
       "min": 2.3,
       "step": 0.1,
       "style": "IPY_MODEL_9381eb8cbc0743fc9b83dc028e785140",
       "value": [
        2.3,
        4.4
       ]
      }
     },
     "b00edf7b00eb4cf699fe23e1872d8232": {
      "model_module": "@jupyter-widgets/output",
      "model_module_version": "1.0.0",
      "model_name": "OutputModel",
      "state": {
       "layout": "IPY_MODEL_e0719715f07d4a59a1b07a0c74abbf7f"
      }
     },
     "b0f7e98269324acc87b37da00b95ab21": {
      "model_module": "@jupyter-widgets/base",
      "model_module_version": "1.0.0",
      "model_name": "LayoutModel",
      "state": {
       "margin": "0 0 0 38px",
       "width": "194px"
      }
     },
     "bc8ddf20c1dc492399474803adaa941a": {
      "model_module": "@jupyter-widgets/controls",
      "model_module_version": "1.0.0",
      "model_name": "SliderStyleModel",
      "state": {
       "description_width": ""
      }
     },
     "d9707c33943e4ac4a263d9d1f671b067": {
      "model_module": "@jupyter-widgets/controls",
      "model_module_version": "1.0.0",
      "model_name": "HBoxModel",
      "state": {
       "children": [
        "IPY_MODEL_27a3c5d0ded74c6fa360625ce60b9d18",
        "IPY_MODEL_de7ef9a1b65642d4aaf552bc4b7fa472",
        "IPY_MODEL_a17958b307ec4daa8acc1f9c56a42c6f",
        "IPY_MODEL_0eaa61506abc425da18663110b0f1c17"
       ],
       "layout": "IPY_MODEL_f50313b65910448c9d2dae4f043f7647"
      }
     },
     "de7ef9a1b65642d4aaf552bc4b7fa472": {
      "model_module": "@jupyter-widgets/controls",
      "model_module_version": "1.0.0",
      "model_name": "FloatRangeSliderModel",
      "state": {
       "_model_name": "FloatRangeSliderModel",
       "_view_name": "FloatRangeSliderView",
       "continuous_update": false,
       "layout": "IPY_MODEL_6c779136873547d6b6b68a5753c07490",
       "max": 4.4,
       "min": 2.3,
       "step": 0.1,
       "style": "IPY_MODEL_521453e6ef19430a95be8beba24fd088",
       "value": [
        2.5,
        4.1
       ]
      }
     },
     "e0719715f07d4a59a1b07a0c74abbf7f": {
      "model_module": "@jupyter-widgets/base",
      "model_module_version": "1.0.0",
      "model_name": "LayoutModel",
      "state": {}
     },
     "e4148a929d2c4006b0dbf117b6610c18": {
      "model_module": "@jupyter-widgets/controls",
      "model_module_version": "1.0.0",
      "model_name": "HBoxModel",
      "state": {
       "children": [
        "IPY_MODEL_a0fbb58710a4423ba0e9d97edd08d278",
        "IPY_MODEL_abb1191842224fb5b716f01bcb163db5",
        "IPY_MODEL_03ad1c66bba44f949b3b2f602f5d62fa",
        "IPY_MODEL_470664db0cbf4d50827e2d53a8483d72"
       ],
       "layout": "IPY_MODEL_4a6830e0565c4e1181f408fbd1946bc3"
      }
     },
     "ef807adfade04141baec6ea8bb634afc": {
      "model_module": "@jupyter-widgets/controls",
      "model_module_version": "1.0.0",
      "model_name": "DropdownModel",
      "state": {
       "_options_labels": [
        "Iris-setosa",
        "Iris-versicolor",
        "Iris-virginica"
       ],
       "description": "dataSet",
       "index": 0,
       "layout": "IPY_MODEL_0b41f5ce5829432ebe9efcc02dd1f1d2",
       "style": "IPY_MODEL_ab1b7065681743a981425d2f9224f47a"
      }
     },
     "f50313b65910448c9d2dae4f043f7647": {
      "model_module": "@jupyter-widgets/base",
      "model_module_version": "1.0.0",
      "model_name": "LayoutModel",
      "state": {}
     }
    },
    "version_major": 2,
    "version_minor": 0
   }
  }
 },
 "nbformat": 4,
 "nbformat_minor": 2
}
